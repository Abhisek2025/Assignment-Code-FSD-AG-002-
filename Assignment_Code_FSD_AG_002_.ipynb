{
  "nbformat": 4,
  "nbformat_minor": 0,
  "metadata": {
    "colab": {
      "provenance": []
    },
    "kernelspec": {
      "name": "python3",
      "display_name": "Python 3"
    },
    "language_info": {
      "name": "python"
    }
  },
  "cells": [
    {
      "cell_type": "markdown",
      "source": [],
      "metadata": {
        "id": "BKFoqz-i33CC"
      }
    },
    {
      "cell_type": "markdown",
      "source": [
        "* Question 1 : What are semantic HTML elements? Why is using them important for web development?\n",
        "\n",
        "\n",
        "---\n",
        "\n",
        "Answer:\n",
        "* Semantics elements are the html tags mainly used for better understanding and they describe the purpose of type of content.\n",
        "*These elements help both the developer and the browser to understand the html code and the structure and meaning of the web pages.\n",
        "*Types of semantics elements:\n",
        "<header>\n",
        "<nav>\n",
        "<main>\n",
        "<section>\n",
        "<article>\n",
        "<footer>\n",
        "<ahead>\n",
        "\n",
        "```\n",
        "# This is formatted as code\n",
        "```\n",
        "\n",
        "\n",
        "Why is using them important for web development?\n",
        "\n",
        "\n",
        "1.Browser Compatibility\n",
        "2.Improve SEO\n",
        "3.Better Accessbility\n",
        "4.Consistent Styling\n",
        "\n",
        "\n",
        "\n",
        "\n",
        "\n",
        "\n",
        "\n",
        "\n",
        "\n",
        "   \n",
        "\n",
        "\n",
        "\n",
        "\n",
        "\n",
        "\n",
        "\n",
        "\n",
        "\n",
        "\n",
        "\n",
        "\n",
        "\n",
        "\n",
        "\n"
      ],
      "metadata": {
        "id": "HxEQdrEv350-"
      }
    },
    {
      "cell_type": "markdown",
      "source": [
        "Question 2: You're designing a blog page. Which semantic elements would you use to structure the page, and why?\n",
        "\n",
        "---\n",
        "When we are designing a blog page we mostly use the semantics elements for better performance and Browser Compatibility.\n",
        "We mostly use:\n",
        "  \n",
        "\n",
        "*<header>\n",
        "* <nav>\n",
        "*<main>\n",
        "*<article>\n",
        "*<section>\n",
        "*<aside>\n",
        "*<footer>\n",
        "\n",
        "```\n",
        "# This is formatted as code\n",
        "```\n",
        "\n",
        "\n",
        "Purpose:\n",
        "\n",
        "> Organizes content meaningfully\n",
        "\n",
        "Improves accessibility for users and screen readers\n",
        "\n",
        "Boosts SEO for better search engine visibility\n",
        "\n",
        "Makes the code cleaner and easier to maintain\n",
        "\n",
        "\n",
        "\n",
        "\n",
        "\n",
        "\n",
        "\n",
        "\n"
      ],
      "metadata": {
        "id": "hZ6--HTL8CPP"
      }
    },
    {
      "cell_type": "markdown",
      "source": [
        "How can you make an HTML form more accessible to users with disabilities?\n",
        "\n",
        "\n",
        "---\n",
        "* Making an HTML form accessible helps all users, especially those who rely on screen readers, keyboard navigation, or assistive technologies. Below are the key techniques to improve form accessibility:\n",
        "1. Use <label> Elements for Form Inputs\n",
        "Every input should have a label describing its purpose.\n",
        "\n",
        "   1. Link labels to inputs using the for attribute (matching the input’s id).\n",
        "    2.Use fieldset and legend for Grouping Related Inputs\n",
        "For related form fields (like radio buttons), use <fieldset> with <legend>.\n",
        "\n",
        " Provide Clear Instructions and Error Messages\n",
        "Use descriptive text or ARIA attributes to give guidance.\n",
        "\n",
        "Clearly indicate required fields.\n",
        "\n",
        "Provide error messages near the relevant field.\n",
        "Use aria-label or aria-describedby (if needed)\n",
        "For additional descriptions not covered by <label>, use ARIA attributes.\n",
        "\n",
        "\n",
        "\n"
      ],
      "metadata": {
        "id": "ebWPAZeB9RmQ"
      }
    },
    {
      "cell_type": "markdown",
      "source": [
        "Question 4: Identify and correct the errors in the following CSS code:\n",
        " p { font-size: 16; color: #333 margin-top 10px;\n",
        "\n",
        "---\n",
        "Correct CSS Code Will be:\n",
        "p {\n",
        "  font-size: 16px;\n",
        "  color: #333;\n",
        "  margin-top: 10px;\n",
        "}\n",
        "\n",
        "```\n",
        "# This is formatted as code\n",
        "```\n",
        "\n",
        "\n",
        "\n"
      ],
      "metadata": {
        "id": "rpvilHYN-Q4h"
      }
    },
    {
      "cell_type": "markdown",
      "source": [
        "Question 5: Write CSS rules to style all <h2> elements inside a <section> with a blue color and center alignment.\n",
        "\n",
        "---\n",
        "section h2 {\n",
        "  color: blue;\n",
        "  text-align: center;\n",
        "}\n",
        "\n",
        "```\n",
        "# This is formatted as code\n",
        "```\n",
        "Here is the above css code to give the color blue and text to be center.\n",
        "\n",
        "\n"
      ],
      "metadata": {
        "id": "I_FespmN-mWc"
      }
    },
    {
      "cell_type": "markdown",
      "source": [
        "Explain the CSS box model and its components.\n",
        "\n",
        "---\n",
        "\n",
        "Css box Model is a fundamental concept in web design that how the elements on a web page are structured and spaced.It has four layers and each layers have differnet function to be perform in a web pages.\n",
        "1.+---------------------------+\n",
        "|         Margin            |  ➔ Outside space of the element\n",
        "+---------------------------+\n",
        "|         Border            |  ➔ Surrounds the padding & content\n",
        "+---------------------------+\n",
        "|         Padding           |  ➔ Space between content & border\n",
        "+---------------------------+\n",
        "|        Content            |  ➔ Actual text or image\n",
        "+---------------------------+\n",
        "\n",
        "```\n",
        "# This is formatted as code\n",
        "```\n",
        "\n",
        "Component\tRole\n",
        "Content\tHolds text, images, or other media\n",
        "Padding\tSpace between content and border\n",
        "Border\tOutlines the padding and content\n",
        "Margin\tCreates space between elements\n"
      ],
      "metadata": {
        "id": "Wcf2dwzH-6KX"
      }
    },
    {
      "cell_type": "markdown",
      "source": [
        "Question 7: How do the relative, absolute, and fixed positioning properties differ in CSS?\n",
        "\n",
        "---\n",
        "\n",
        "In CSS, the position property defines how an element is positioned in the document layout. The values relative, absolute, and fixed control where and how elements appear on the page.\n",
        "* position: relative;\n",
        "Definition: Positions the element relative to its normal position in the document flow.\n",
        "\n",
        "Effect:\n",
        "\n",
        "The element remains in the document flow, so space is still reserved for it.\n",
        "\n",
        "You can move it using top, left, right, bottom.\n",
        "\n",
        "* position: absolute;\n",
        "Definition: Positions the element relative to the nearest positioned ancestor (relative, absolute, or fixed ancestor), or the <html> document if no positioned ancestor is found.\n",
        "\n",
        "Effect:\n",
        "\n",
        "The element is removed from the normal flow of the page.\n",
        "\n",
        "No space is reserved for it.\n",
        "\n",
        "Positioned exactly where specified using top, left, right, bottom.\n",
        "\n",
        "position: fixed;\n",
        "Definition: Positions the element relative to the viewport (browser window).\n",
        "\n",
        "Effect:\n",
        "\n",
        "The element stays in the same position even when the page is scrolled.\n",
        "\n",
        "Often used for sticky headers, menus, or \"Back to Top\" buttons.\n",
        "\n",
        "\n"
      ],
      "metadata": {
        "id": "j6c2RLPK_lU1"
      }
    },
    {
      "cell_type": "markdown",
      "source": [
        "Question 8: Write a CSS rule to set a background image for a <div> with the class .banner, ensuring the image covers the entire area without repeating.\n",
        "\n",
        "---\n",
        "Answer:  .banner {\n",
        "  background-image: url(\"your-image.jpg\");\n",
        "  background-repeat: no-repeat;\n",
        "  background-size: cover;\n",
        "  background-position: center;\n",
        "}\n",
        "\n",
        "```\n",
        "# This is formatted as code\n",
        "```\n",
        "Here is above code for set a background image without repetation.\n",
        "\n"
      ],
      "metadata": {
        "id": "f0liXWZTDdGP"
      }
    }
  ]
}